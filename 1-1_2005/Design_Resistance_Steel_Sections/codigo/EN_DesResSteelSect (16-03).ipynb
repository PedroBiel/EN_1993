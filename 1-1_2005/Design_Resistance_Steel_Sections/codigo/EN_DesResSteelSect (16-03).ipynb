{
 "cells": [
  {
   "cell_type": "markdown",
   "metadata": {},
   "source": [
    "# Design Resistance of the Hot Rolled Steel Sections\n",
    "# according to EN 1993-1-1:2005"
   ]
  },
  {
   "cell_type": "markdown",
   "metadata": {},
   "source": [
    "2016-03 Pedro Biel"
   ]
  },
  {
   "cell_type": "code",
   "execution_count": 1,
   "metadata": {
    "collapsed": false,
    "scrolled": true
   },
   "outputs": [
    {
     "name": "stdout",
     "output_type": "stream",
     "text": [
      "Populating the interactive namespace from numpy and matplotlib\n"
     ]
    },
    {
     "name": "stderr",
     "output_type": "stream",
     "text": [
      "Vendor:  Continuum Analytics, Inc.\n",
      "Package: mkl\n",
      "Message: trial mode expires in 9 days\n"
     ]
    }
   ],
   "source": [
    "# Import Anaconda packages\n",
    "# ------------------------\n",
    "\n",
    "%pylab inline\n",
    "import csv\n",
    "import xlsxwriter"
   ]
  },
  {
   "cell_type": "code",
   "execution_count": 2,
   "metadata": {
    "collapsed": true
   },
   "outputs": [],
   "source": [
    "# Precision for floating point output\n",
    "# -----------------------------------\n",
    "\n",
    "set_printoptions(precision = 2,   # No of decimals.\n",
    "                 suppress = True) # Suppress printing of small floating point values using scientific notation."
   ]
  },
  {
   "cell_type": "markdown",
   "metadata": {},
   "source": [
    "---"
   ]
  },
  {
   "cell_type": "markdown",
   "metadata": {},
   "source": [
    "## 1. Inputs"
   ]
  },
  {
   "cell_type": "markdown",
   "metadata": {},
   "source": [
    "### EN 1993-1-1:2005\n",
    "\n",
    "https://law.resource.org/pub/eu/eurocode/en.1993.1.1.2005.pdf"
   ]
  },
  {
   "cell_type": "markdown",
   "metadata": {},
   "source": [
    "### Steel Sections\n",
    "\n",
    "Steel sections according to ArcelorMittal.\n",
    "\n",
    "http://sections.arcelormittal.com/products-services/products-ranges.html\n",
    "\n",
    "    Serie                                             Section                    Dimensions       \n",
    "    ----------------------------------------------------------------------------------------------------------------------\n",
    "    European I beams                                  IPE                        EU 19-57\n",
    "    European wide flange beams                        IPEAA, IPEA, IPEO, IPE 700 ArcelorMittal standard\n",
    "    European wide flange beams                        HEA, HEB, HEM              EU 53-62\n",
    "    European wide flange beams                        HE 1000                    ASTM A 6/A 6M\n",
    "    European wide flange beams                        HEAA                       ArcelorMittal standard\n",
    "    European extra wide flange beams                  HL                         ASTM A 6/A 6M; ArcelorMittal standard\n",
    "    European extra wide flange beams                  HLZ                        ASTM A 6/A 6M; ArcelorMittal standard\n",
    "    Wide flange columns                               HD 260/320                 ArcelorMittal standard\n",
    "    Wide flange columns                               HD 360/400                 ASTM A 6/A 6M\n",
    "    Wide flange bearing piles                         HP                         ArcelorMittal standard\n",
    "    British universal beams                           UB                         BS 4-1:2005; ASTM A 6/A 6M; ArcelorMittal\n",
    "    British universal columns                         UC                         BS 4-1:2005; ASTM A 6/A 6M; ArcelorMittal\n",
    "    British universal bearing piles with wide flanges UBP                        BS 4-1:2005\n",
    "    American wide flange beams                        W                          ASTM A 6/A 6M; ArcelorMittal standard\n",
    "    American wide flange bearing piles                HP                         ASTM A 6/A 6M -11\n",
    "    Russian hot rolled beams                          HG                         STO ASCHM 20-93; GOST 26020-83\n",
    "    Japanese H sections                               H                          JIS G 3192: 2008; JIS A 5526: 2005\n",
    "    European standard channels                        UPN                        DIN 1026-1: 2000, NF A 45-202: 1986\n",
    "    Channels with parallel flanges                    UPE                        DIN 1026-2: 2002-10  \n",
    "    American standard channels                        C                          ASTM A 6/A 6M"
   ]
  },
  {
   "cell_type": "markdown",
   "metadata": {},
   "source": [
    "### csv File Reading"
   ]
  },
  {
   "cell_type": "code",
   "execution_count": 3,
   "metadata": {
    "collapsed": false
   },
   "outputs": [],
   "source": [
    "# ArcelorMittal csv file data.\n",
    "\n",
    "sections_csv = []\n",
    "\n",
    "with open('..\\csv\\sections_ArcelorMittal.csv', newline = '') as f_csv:\n",
    "    reader = csv.reader(f_csv)\n",
    "    for row in reader:\n",
    "        if row[0].startswith('#'): continue # Skip the rows which begin with ‘#’.\n",
    "        else: sections_csv.append(row)"
   ]
  },
  {
   "cell_type": "markdown",
   "metadata": {},
   "source": [
    "### Arrays with the Sections Data"
   ]
  },
  {
   "cell_type": "code",
   "execution_count": 4,
   "metadata": {
    "collapsed": false
   },
   "outputs": [],
   "source": [
    "sections_arr = array(sections_csv) # Convert the csv list to an array.\n",
    "sections = sections_arr.T          # Transpose the array."
   ]
  },
  {
   "cell_type": "code",
   "execution_count": 5,
   "metadata": {
    "collapsed": false
   },
   "outputs": [],
   "source": [
    "section = array(sections[0])                 # Section range.\n",
    "nominal = array(sections[1])                 # Nominal depth.\n",
    "g =       array(sections[2], dtype = float)  # [kN/[mm] Weight per unit length.\n",
    "h =       array(sections[3], dtype = float)  # [mm] Depth of section.\n",
    "b =       array(sections[4], dtype = float)  # [mm] Width of section.\n",
    "tw =      array(sections[5], dtype = float)  # [mm] Web thickness.\n",
    "tf =      array(sections[6], dtype = float)  # [mm] Flange thickness.\n",
    "r =       array(sections[7], dtype = float)  # [mm] Radius of root fillet.\n",
    "A =       array(sections[8], dtype = float)  # [cm²] Area of section.\n",
    "hi =      array(sections[9], dtype = float)  # [mm] Inner depth between flanges.\n",
    "d =       array(sections[10], dtype = float) # [mm] Depth of straight portion of web.\n",
    "O =       array(sections[11])                # [mm] Maximum bolt diameter.\n",
    "pmin =    array(sections[12], dtype = float) # [mm] Minimum allowable edge distances.\n",
    "pmax =    array(sections[13], dtype = float) # [mm] Maximum allowable edge distances.\n",
    "AL =      array(sections[14], dtype = float) # [m²/m] Painting surface per unit length.\n",
    "AG =      array(sections[15], dtype = float) # [m²/t] Painting surface per unit mass.\n",
    "Iy =      array(sections[16], dtype = float) # [cm⁴] Second moment of area about the y axis.\n",
    "Wely =    array(sections[17], dtype = float) # [cm³] Elastic section modulus about the y axis.\n",
    "Wply =    array(sections[18], dtype = float) # [cm³] Plastic section modulus about the y axis.\n",
    "iy =      array(sections[19], dtype = float) # [mm] Radius of gyration about the y axis.\n",
    "AVz =     array(sections[20], dtype = float) # [cm²] Shear area in the z-direction.\n",
    "Iz =      array(sections[21], dtype = float) # [cm⁴] Second moment of area about the z axis.\n",
    "Welz =    array(sections[22], dtype = float) # [cm³] Elastic section modulus about the z axis.\n",
    "Wplz =    array(sections[23], dtype = float) # [cm³] Plastic section modulus about the z axis.\n",
    "iz =      array(sections[24], dtype = float) # [mm] Radius of gyration about the y axis.\n",
    "ss =      array(sections[25], dtype = float) # [mm] Length of stiff bearing.\n",
    "It =      array(sections[26], dtype = float) # [cm⁴] Torsion constant.\n",
    "Iw =      array(sections[27], dtype = float) # [cm⁶] Warping constant."
   ]
  },
  {
   "cell_type": "code",
   "execution_count": 6,
   "metadata": {
    "collapsed": false
   },
   "outputs": [
    {
     "name": "stdout",
     "output_type": "stream",
     "text": [
      "['C' 'H' 'HD' 'HE' 'HEA' 'HEAA' 'HEB' 'HEC' 'HEM' 'HG' 'HL' 'HLA' 'HLAA'\n",
      " 'HLB' 'HLM' 'HLR' 'HLZA' 'HLZB' 'HLZC' 'HLZD' 'HP' 'IPE' 'IPEA' 'IPEAA'\n",
      " 'IPEO' 'IPEV' 'UB' 'UBP' 'UC' 'UPE' 'UPN' 'W']\n"
     ]
    }
   ],
   "source": [
    "print(unique(section))"
   ]
  },
  {
   "cell_type": "markdown",
   "metadata": {},
   "source": [
    "### Yield Strength for Hot Rolled Structural Steel $f_y$ [MPa] (table 3.1)"
   ]
  },
  {
   "cell_type": "code",
   "execution_count": 7,
   "metadata": {
    "collapsed": true
   },
   "outputs": [],
   "source": [
    "fy_S235_EN = [235, 215] # [MPa] t <= 40 mm -> fy = 235 MPa; 40 mm < t <= 80 mm -> fy = 215 MPa.\n",
    "fy_S275_EN = [275, 255] # [MPa] t <= 40 mm -> fy = 275 MPa; 40 mm < t <= 80 mm -> fy = 255 MPa.\n",
    "fy_S355_EN = [355, 335] # [MPa] t <= 40 mm -> fy = 355 MPa; 40 mm < t <= 80 mm -> fy = 335 MPa."
   ]
  },
  {
   "cell_type": "code",
   "execution_count": 8,
   "metadata": {
    "collapsed": false
   },
   "outputs": [],
   "source": [
    "fy_S235 = []\n",
    "fy_S275 = []\n",
    "fy_S355 = []\n",
    "\n",
    "fy_S235 = [fy_S235_EN[0] if t <= 40 else fy_S235_EN[1] for t,t in zip(tw, tf)]\n",
    "fy_S275 = [fy_S275_EN[0] if t <= 40 else fy_S275_EN[1] for t,t in zip(tw, tf)]\n",
    "fy_S355 = [fy_S355_EN[0] if t <= 40 else fy_S355_EN[1] for t,t in zip(tw, tf)]"
   ]
  },
  {
   "cell_type": "markdown",
   "metadata": {},
   "source": [
    "### Partial Factor for Resistance of Cross-Sections"
   ]
  },
  {
   "cell_type": "code",
   "execution_count": 9,
   "metadata": {
    "collapsed": true
   },
   "outputs": [],
   "source": [
    "γM0 = 1.00"
   ]
  },
  {
   "cell_type": "markdown",
   "metadata": {},
   "source": [
    "---"
   ]
  },
  {
   "cell_type": "markdown",
   "metadata": {},
   "source": [
    "## 2. Calculations"
   ]
  },
  {
   "cell_type": "markdown",
   "metadata": {},
   "source": [
    "### $N_{pl,Rd}$ Design Plastic Resistance to Normal Forces $[kN]$"
   ]
  },
  {
   "cell_type": "markdown",
   "metadata": {},
   "source": [
    "$$N_{pl,Rd} = \\frac{A f_y}{\\gamma_{M0}}$$"
   ]
  },
  {
   "cell_type": "code",
   "execution_count": 10,
   "metadata": {
    "collapsed": false
   },
   "outputs": [],
   "source": [
    "def NRd(As, fy, gM0): return As * fy / gM0 / 10\n",
    "\n",
    "NplRd_S235 = NRd(A, fy_S235, γM0)\n",
    "NplRd_S275 = NRd(A, fy_S275, γM0)\n",
    "NplRd_S355 = NRd(A, fy_S355, γM0)"
   ]
  },
  {
   "cell_type": "markdown",
   "metadata": {},
   "source": [
    "### $M_{el,Rd}$ Elastic Resistance to Bending Moments $[kNm]$"
   ]
  },
  {
   "cell_type": "markdown",
   "metadata": {},
   "source": [
    "$$M_{el,Rd} = \\frac{W_{el} f_y}{\\gamma_{M0}}$$"
   ]
  },
  {
   "cell_type": "code",
   "execution_count": 11,
   "metadata": {
    "collapsed": false
   },
   "outputs": [],
   "source": [
    "def MRd(W, fy, gM0): return W * fy / gM0 / 1000\n",
    "\n",
    "MelyRd_S235 = MRd(Wely, fy_S235, γM0)\n",
    "MelyRd_S275 = MRd(Wely, fy_S275, γM0)\n",
    "MelyRd_S355 = MRd(Wely, fy_S355, γM0)\n",
    "                    \n",
    "MelzRd_S235 = MRd(Welz, fy_S235, γM0)\n",
    "MelzRd_S275 = MRd(Welz, fy_S275, γM0)\n",
    "MelzRd_S355 = MRd(Welz, fy_S355, γM0)"
   ]
  },
  {
   "cell_type": "markdown",
   "metadata": {},
   "source": [
    "### $M_{pl,Rd}$ Plastic Resistance to Bending Moments $[kNm]$"
   ]
  },
  {
   "cell_type": "markdown",
   "metadata": {},
   "source": [
    "$$M_{pl,Rd} = \\frac{W_{pl} f_y}{\\gamma_{M0}}$$"
   ]
  },
  {
   "cell_type": "code",
   "execution_count": 12,
   "metadata": {
    "collapsed": true
   },
   "outputs": [],
   "source": [
    "MplyRd_S235 = MRd(Wply, fy_S235, γM0)\n",
    "MplyRd_S275 = MRd(Wply, fy_S275, γM0)\n",
    "MplyRd_S355 = MRd(Wply, fy_S355, γM0)\n",
    "                    \n",
    "MplzRd_S235 = MRd(Wplz, fy_S235, γM0)\n",
    "MplzRd_S275 = MRd(Wplz, fy_S275, γM0)\n",
    "MplzRd_S355 = MRd(Wplz, fy_S355, γM0)"
   ]
  },
  {
   "cell_type": "markdown",
   "metadata": {},
   "source": [
    "### $V_{pl,Rd}$ Plastic Design Shear Resistance $[kN]$"
   ]
  },
  {
   "cell_type": "markdown",
   "metadata": {},
   "source": [
    "$$V_{pl,Rd} = \\frac{A_V f_y}{\\sqrt{3} · \\gamma_{M0}}$$"
   ]
  },
  {
   "cell_type": "markdown",
   "metadata": {},
   "source": [
    "$A_{Vy}$ Is not included in the data file of ArcelorMittal. The value will be obtained from the formula: "
   ]
  },
  {
   "cell_type": "markdown",
   "metadata": {},
   "source": [
    "$$A_{Vy} = 2 b t_f$$"
   ]
  },
  {
   "cell_type": "code",
   "execution_count": 13,
   "metadata": {
    "collapsed": true
   },
   "outputs": [],
   "source": [
    "AVy = 2 * b * tf / 100 # [cm²] Shear area in the y-direction."
   ]
  },
  {
   "cell_type": "code",
   "execution_count": 14,
   "metadata": {
    "collapsed": false
   },
   "outputs": [],
   "source": [
    "def VRd(Av, fy, gM0): return Av * fy / (sqrt(3) * gM0) / 10\n",
    "\n",
    "VplyRd_S235 = VRd(AVy, fy_S235, γM0)\n",
    "VplyRd_S275 = VRd(AVy, fy_S275, γM0)\n",
    "VplyRd_S355 = VRd(AVy, fy_S355, γM0)\n",
    "\n",
    "VplzRd_S235 = VRd(AVz, fy_S235, γM0)\n",
    "VplzRd_S275 = VRd(AVz, fy_S275, γM0)\n",
    "VplzRd_S355 = VRd(AVz, fy_S355, γM0)"
   ]
  },
  {
   "cell_type": "markdown",
   "metadata": {},
   "source": [
    "---"
   ]
  },
  {
   "cell_type": "markdown",
   "metadata": {},
   "source": [
    "## 3. Results"
   ]
  },
  {
   "cell_type": "markdown",
   "metadata": {},
   "source": [
    "### Stack the Resistances of the Sections"
   ]
  },
  {
   "cell_type": "code",
   "execution_count": 15,
   "metadata": {
    "collapsed": false
   },
   "outputs": [],
   "source": [
    "stack_Rd = vstack((section, nominal,\n",
    "                   NplRd_S235, NplRd_S275, NplRd_S275,\n",
    "                   MelyRd_S235, MelyRd_S275, MelyRd_S355,\n",
    "                   MelzRd_S235, MelzRd_S275, MelzRd_S355,\n",
    "                   MplyRd_S235, MplyRd_S275, MplyRd_S355,\n",
    "                   MplzRd_S235, MplzRd_S275, MplzRd_S355,\n",
    "                   VplyRd_S235, VplyRd_S275, VplyRd_S355,\n",
    "                   VplzRd_S235, VplzRd_S275, VplzRd_S355))\n",
    "\n",
    "x = range(stack_Rd[0].size)\n",
    "Rd = [[row[i] for row in stack_Rd] for i in x] # Transpose rows to columns."
   ]
  },
  {
   "cell_type": "markdown",
   "metadata": {},
   "source": [
    "### Save csv"
   ]
  },
  {
   "cell_type": "code",
   "execution_count": 16,
   "metadata": {
    "collapsed": false
   },
   "outputs": [],
   "source": [
    "with open('../csv/EN_DesResSteelSect (16-02).csv', 'w', newline='') as f_csv:\n",
    "    writer = csv.writer(f_csv)\n",
    "    writer.writerow(['# Design Resistance of the Steel Sections according to EN 1993-1-1:2005'])\n",
    "    writer.writerow(['# ---------------------------------------------------------------------'])\n",
    "    writer.writerow(['#'])\n",
    "    writer.writerow(['# 2016-02-05 Pedro Biel'])\n",
    "    writer.writerow(['#'])\n",
    "    writer.writerow(['# Units in [kN]; [kNm]'])\n",
    "    writer.writerow(['#'])\n",
    "    writer.writerow(['# Section; Nominal; N.plRd_S235; N.plRd_S275; N.plRd_S275; M.elyRd_S235; M.elyRd_S275; M.elyRd_S355; M.elzRd_S235; M.elzRd_S275; M.elzRd_S355; M.plyRd_S235; M.plyRd_S275; M.plyRd_S355; M.plzRd_S235; M.plzRd_S275; M.plzRd_S355; V.plyRd_S235; V.plyRd_S275; V.plyRd_S355; V.plzRd_S235; V.plzRd_S275; V.plzRd_S355'])\n",
    "    writer.writerow(['#'])\n",
    "    writer.writerows(Rd)\n",
    "    writer.writerow(['#'])\n",
    "    writer.writerow(['# End of the document'])"
   ]
  },
  {
   "cell_type": "markdown",
   "metadata": {},
   "source": [
    "### Save xlsx"
   ]
  },
  {
   "cell_type": "code",
   "execution_count": 17,
   "metadata": {
    "collapsed": false
   },
   "outputs": [],
   "source": [
    "# New book and new worksheet.\n",
    "workbook = xlsxwriter.Workbook('../xlsx/EN_DesResSteelSect (16-03).xlsx', {'strings_to_numbers': True,})\n",
    "workbook.set_properties({'title':   'Design Resistance of the Hot Rolled Steel Sections',\n",
    "                         'subject': 'according to EN 1993-1-1:2005',\n",
    "                         'author':  'Pedro Biel'})\n",
    "worksheetS235 = workbook.add_worksheet('S235')\n",
    "worksheetS275 = workbook.add_worksheet('S275')\n",
    "worksheetS355 = workbook.add_worksheet('S355')\n",
    "\n",
    "# Texts.\n",
    "txt01 = 'Design Resistance of the Hot Rolled Steel Sections according to EN 1993-1-1:2005'\n",
    "txt02 = '2016-03-02 Pedro Biel'\n",
    "txt03 = 'Units in [kN], [kNm]'\n",
    "txt04 = 'Section'\n",
    "txt05 = 'Nominal'\n",
    "txt06 = ('N.plRd', 'M.elyRd', 'M.elzRd', 'M.plyRd', 'M.plzRd', 'V.plyRd', 'V.plzRd')\n",
    "txt07 = 'Steel grade: S235'\n",
    "txt08 = 'Steel grade: S275'\n",
    "txt09 = 'Steel grade: S355'\n",
    "\n",
    "# Footer.\n",
    "footerL = '&L&6&\"Monospac821 BT\" &F / http://nbviewer.jupyter.org/gist/PedroBiel'\n",
    "footerR = '&R&6&\"Monospac821 BT\" &P/&N'\n",
    "\n",
    "# Format.\n",
    "format01 = workbook.add_format()    # Title.\n",
    "format01.set_bold()\n",
    "format01.set_font_size(14)\n",
    "\n",
    "format02 = workbook.add_format()    # Section.\n",
    "format02.set_bottom(1)\n",
    "\n",
    "format03 = workbook.add_format()    # Nominal.\n",
    "format03.set_align('center')\n",
    "format03.set_bottom(1)\n",
    "\n",
    "format04 = workbook.add_format()    # Other first rows.\n",
    "format04.set_align('right')\n",
    "format04.set_bottom(1)\n",
    "\n",
    "format05 = workbook.add_format()    # Bottom border style.\n",
    "format05.set_bottom(7)\n",
    "format05.set_bottom_color('#A0A0A0')\n",
    "\n",
    "format06 = workbook.add_format()    # Horizontal alignment right.\n",
    "format06.set_align('right')\n",
    "format06.set_bottom(7)\n",
    "format06.set_bottom_color('#A0A0A0')\n",
    "\n",
    "format07 = workbook.add_format()    # Format of the numbers of the lists.\n",
    "format07.set_num_format('#,##0.00')\n",
    "format07.set_bottom(7)\n",
    "format07.set_bottom_color('#A0A0A0')\n",
    "\n",
    "for worksheet in workbook.worksheets():                      # Return a list of the worksheet objects in the workbook.\n",
    "    worksheet.set_column('A1:W1', 14)                        # Width of the column.\n",
    "    worksheet.hide_gridlines(2)                              # Hide gridlines.\n",
    "    worksheet.autofilter('A8:B8')                            # Filter.\n",
    "    worksheet.freeze_panes('A9')                             # Create worksheet panes and mark them as frozen.\n",
    "    worksheet.set_footer(footerL + footerR)                  # Footer.\n",
    "    worksheet.protect('EN_CapResSecc', {'autofilter': True}) # Protect the worksheet.\n",
    "\n",
    "    # First row.\n",
    "    worksheet.write('A1', txt01, format01)\n",
    "    worksheet.write('A2', txt02)\n",
    "    worksheet.write('A6', txt03)\n",
    "    worksheet.write('A8', txt04, format02)\n",
    "    worksheet.write('B8', txt05, format03)\n",
    "    worksheet.write_row('C8', txt06, format04)\n",
    "    \n",
    "    # Fill cells.\n",
    "    worksheet.write_column('A9', section, format05)\n",
    "    worksheet.write_column('B9', nominal, format06)\n",
    "    \n",
    "# Fill cells in worksheetS235.\n",
    "worksheetS235.write('A4', txt07)\n",
    "worksheetS235.write_column('C9', NplRd_S235,  format07)\n",
    "worksheetS235.write_column('D9', MelyRd_S235, format07)\n",
    "worksheetS235.write_column('E9', MelzRd_S235, format07)\n",
    "worksheetS235.write_column('F9', MplyRd_S235, format07)\n",
    "worksheetS235.write_column('G9', MplzRd_S235, format07)\n",
    "worksheetS235.write_column('H9', VplyRd_S235, format07)\n",
    "worksheetS235.write_column('I9', VplzRd_S235, format07) \n",
    "\n",
    "# Fill cells in worksheetS275.\n",
    "worksheetS275.write('A4', txt08)\n",
    "worksheetS275.write_column('C9', NplRd_S275,  format07)\n",
    "worksheetS275.write_column('D9', MelyRd_S275, format07)\n",
    "worksheetS275.write_column('E9', MelzRd_S275, format07)\n",
    "worksheetS275.write_column('F9', MplyRd_S275, format07)\n",
    "worksheetS275.write_column('G9', MplzRd_S275, format07)\n",
    "worksheetS275.write_column('H9', VplyRd_S275, format07)\n",
    "worksheetS275.write_column('I9', VplzRd_S275, format07)      \n",
    "    \n",
    "# Fill cells in worksheetS355.\n",
    "worksheetS355.write('A4', txt09)\n",
    "worksheetS355.write_column('C9', NplRd_S355,  format07)\n",
    "worksheetS355.write_column('D9', MelyRd_S355, format07)\n",
    "worksheetS355.write_column('E9', MelzRd_S355, format07)\n",
    "worksheetS355.write_column('F9', MplyRd_S355, format07)\n",
    "worksheetS355.write_column('G9', MplzRd_S355, format07)\n",
    "worksheetS355.write_column('H9', VplyRd_S355, format07)\n",
    "worksheetS355.write_column('I9', VplzRd_S355, format07)   \n",
    "\n",
    "workbook.close()"
   ]
  },
  {
   "cell_type": "markdown",
   "metadata": {
    "collapsed": true
   },
   "source": [
    "## 4. Version"
   ]
  },
  {
   "cell_type": "code",
   "execution_count": 18,
   "metadata": {
    "collapsed": false
   },
   "outputs": [
    {
     "data": {
      "application/json": {
       "Software versions": [
        {
         "module": "Python",
         "version": "3.5.1 64bit [MSC v.1900 64 bit (AMD64)]"
        },
        {
         "module": "IPython",
         "version": "4.1.1"
        },
        {
         "module": "OS",
         "version": "Windows 10 10.0.10586 SP0"
        },
        {
         "module": "csv",
         "version": "1.0"
        },
        {
         "module": "numpy",
         "version": "1.10.1"
        },
        {
         "module": "scipy",
         "version": "0.16.0"
        },
        {
         "module": "xlsxwriter",
         "version": "0.8.4"
        }
       ]
      },
      "text/html": [
       "<table><tr><th>Software</th><th>Version</th></tr><tr><td>Python</td><td>3.5.1 64bit [MSC v.1900 64 bit (AMD64)]</td></tr><tr><td>IPython</td><td>4.1.1</td></tr><tr><td>OS</td><td>Windows 10 10.0.10586 SP0</td></tr><tr><td>csv</td><td>1.0</td></tr><tr><td>numpy</td><td>1.10.1</td></tr><tr><td>scipy</td><td>0.16.0</td></tr><tr><td>xlsxwriter</td><td>0.8.4</td></tr><tr><td colspan='2'>Sun Mar 06 18:34:53 2016 Hora estándar romance</td></tr></table>"
      ],
      "text/latex": [
       "\\begin{tabular}{|l|l|}\\hline\n",
       "{\\bf Software} & {\\bf Version} \\\\ \\hline\\hline\n",
       "Python & 3.5.1 64bit [MSC v.1900 64 bit (AMD64)] \\\\ \\hline\n",
       "IPython & 4.1.1 \\\\ \\hline\n",
       "OS & Windows 10 10.0.10586 SP0 \\\\ \\hline\n",
       "csv & 1.0 \\\\ \\hline\n",
       "numpy & 1.10.1 \\\\ \\hline\n",
       "scipy & 0.16.0 \\\\ \\hline\n",
       "xlsxwriter & 0.8.4 \\\\ \\hline\n",
       "\\hline \\multicolumn{2}{|l|}{Sun Mar 06 18:34:53 2016 Hora estándar romance} \\\\ \\hline\n",
       "\\end{tabular}\n"
      ],
      "text/plain": [
       "Software versions\n",
       "Python 3.5.1 64bit [MSC v.1900 64 bit (AMD64)]\n",
       "IPython 4.1.1\n",
       "OS Windows 10 10.0.10586 SP0\n",
       "csv 1.0\n",
       "numpy 1.10.1\n",
       "scipy 0.16.0\n",
       "xlsxwriter 0.8.4\n",
       "Sun Mar 06 18:34:53 2016 Hora estándar romance"
      ]
     },
     "execution_count": 18,
     "metadata": {},
     "output_type": "execute_result"
    }
   ],
   "source": [
    "%load_ext version_information\n",
    "%reload_ext version_information\n",
    "\n",
    "%version_information csv, numpy, scipy, xlsxwriter"
   ]
  }
 ],
 "metadata": {
  "kernelspec": {
   "display_name": "Python 3",
   "language": "python",
   "name": "python3"
  },
  "language_info": {
   "codemirror_mode": {
    "name": "ipython",
    "version": 3
   },
   "file_extension": ".py",
   "mimetype": "text/x-python",
   "name": "python",
   "nbconvert_exporter": "python",
   "pygments_lexer": "ipython3",
   "version": "3.5.1"
  }
 },
 "nbformat": 4,
 "nbformat_minor": 0
}
