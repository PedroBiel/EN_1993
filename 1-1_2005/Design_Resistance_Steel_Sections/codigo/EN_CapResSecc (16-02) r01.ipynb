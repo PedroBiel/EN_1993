{
 "cells": [
  {
   "cell_type": "markdown",
   "metadata": {},
   "source": [
    "# Capacidad resistente de las secciones\n",
    "# según EN 1993-1-1:2005"
   ]
  },
  {
   "cell_type": "markdown",
   "metadata": {},
   "source": [
    "nbviewer\n",
    "\n",
    "2016-02 Pedro Biel"
   ]
  },
  {
   "cell_type": "code",
   "execution_count": 1,
   "metadata": {
    "collapsed": false
   },
   "outputs": [
    {
     "name": "stdout",
     "output_type": "stream",
     "text": [
      "Populating the interactive namespace from numpy and matplotlib\n"
     ]
    }
   ],
   "source": [
    "# Importar librerías de Anaconda\n",
    "# ------------------------------\n",
    "\n",
    "%pylab inline\n",
    "import csv\n",
    "import xlsxwriter"
   ]
  },
  {
   "cell_type": "code",
   "execution_count": 2,
   "metadata": {
    "collapsed": true
   },
   "outputs": [],
   "source": [
    "# Precisión de los resultados mostrados\n",
    "# -------------------------------------\n",
    "\n",
    "set_printoptions(precision = 2,   # Nº de decimales.\n",
    "                 suppress = True) # Supresión del modo científico para valores pequeños."
   ]
  },
  {
   "cell_type": "markdown",
   "metadata": {},
   "source": [
    "---"
   ]
  },
  {
   "cell_type": "markdown",
   "metadata": {},
   "source": [
    "## 1. Datos de entrada"
   ]
  },
  {
   "cell_type": "markdown",
   "metadata": {},
   "source": [
    "### EN 1993-1-1:2005\n",
    "\n",
    "https://law.resource.org/pub/eu/eurocode/en.1993.1.1.2005.pdf"
   ]
  },
  {
   "cell_type": "markdown",
   "metadata": {},
   "source": [
    "### Perfiles\n",
    "\n",
    "Perfiles según ArcelorMittal.\n",
    "\n",
    "http://sections.arcelormittal.com/products-services/products-ranges.html\n",
    "\n",
    "    Serie                                             Perfil                     Dimensiones       \n",
    "    -------------------------------------------------------------------------------------------------------------------------\n",
    "    European I beams                                  IPE                        EU 19-57\n",
    "    European wide flange beams                        IPEAA, IPEA, IPEO, IPE 700 ArcelorMittal standard\n",
    "    European wide flange beams                        HEA, HEB, HEM              EU 53-62\n",
    "    European wide flange beams                        HE 1000                    ASTM A 6/A 6M\n",
    "    European wide flange beams                        HEAA                       ArcelorMittal standard\n",
    "    European extra wide flange beams                  HL                         ASTM A 6/A 6M; ArcelorMittal standard\n",
    "    European extra wide flange beams                  HLZ                        ASTM A 6/A 6M; ArcelorMittal standard\n",
    "    Wide flange columns                               HD 260/320                 ArcelorMittal standard\n",
    "    Wide flange columns                               HD 360/400                 ASTM A 6/A 6M\n",
    "    Wide flange bearing piles                         HP                         ArcelorMittal standard\n",
    "    British universal beams                           UB                         BS 4-1:2005; ASTM A 6/A 6M; ArcelorMittal s.\n",
    "    British universal columns                         UC                         BS 4-1:2005; ASTM A 6/A 6M; ArcelorMittal s.\n",
    "    British universal bearing piles with wide flanges UBP                        BS 4-1:2005\n",
    "    American wide flange beams                        W                          ASTM A 6/A 6M; ArcelorMittal standard\n",
    "    American wide flange bearing piles                HP                         ASTM A 6/A 6M -11\n",
    "    Russian hot rolled beams                          HG                         STO ASCHM 20-93; GOST 26020-83\n",
    "    Japanese H sections                               H                          JIS G 3192: 2008; JIS A 5526: 2005\n",
    "    European standard channels                        UPN                        DIN 1026-1: 2000, NF A 45-202: 1986\n",
    "    Channels with parallel flanges                    UPE                        DIN 1026-2: 2002-10  \n",
    "    American standard channels                        C                          ASTM A 6/A 6M"
   ]
  },
  {
   "cell_type": "markdown",
   "metadata": {},
   "source": [
    "### Lectura del fichero csv"
   ]
  },
  {
   "cell_type": "code",
   "execution_count": 3,
   "metadata": {
    "collapsed": false
   },
   "outputs": [],
   "source": [
    "# Fichero csv con los datos de ArcelorMittal.\n",
    "\n",
    "secciones_csv = []\n",
    "\n",
    "with open('..\\csv\\sections_ArcelorMittal.csv', newline = '') as f_csv:\n",
    "    reader = csv.reader(f_csv)\n",
    "#    for n in range(3): # Elimina las dos primeras filas del listado (cabecero)\n",
    "#        headers = next(reader)\n",
    "    for row in reader:\n",
    "        if row[0].startswith('@'): continue # Desestima las filas que comienzan por '@' (cabeceros).\n",
    "        else: secciones_csv.append(row)"
   ]
  },
  {
   "cell_type": "markdown",
   "metadata": {},
   "source": [
    "### Arrays de datos del perfil"
   ]
  },
  {
   "cell_type": "code",
   "execution_count": 4,
   "metadata": {
    "collapsed": false
   },
   "outputs": [],
   "source": [
    "secciones_arr = array(secciones_csv) # Convierte la lista del csv en array.\n",
    "secciones = secciones_arr.T          # Trasposición de filas en columnas."
   ]
  },
  {
   "cell_type": "code",
   "execution_count": 5,
   "metadata": {
    "collapsed": false
   },
   "outputs": [],
   "source": [
    "perfil =  array(secciones[0])                 # Perfil.\n",
    "nominal = array(secciones[1])                 # Dimensiones nominales.\n",
    "g =       array(secciones[2], dtype = float)  # [kN/[mm] Peso.\n",
    "h =       array(secciones[3], dtype = float)  # [mm] Canto del perfil.\n",
    "b =       array(secciones[4], dtype = float)  # [mm] Ancho del perfil.\n",
    "tw =      array(secciones[5], dtype = float)  # [mm] Espesor del alma.\n",
    "tf =      array(secciones[6], dtype = float)  # [mm] Espesor del ala.\n",
    "r =       array(secciones[7], dtype = float)  # [mm] Radio entre alma y ala.\n",
    "A =       array(secciones[8], dtype = float)  # [cm²] Área de la sección.\n",
    "hi =      array(secciones[9], dtype = float)  # [mm] Altura interior entre alas.\n",
    "d =       array(secciones[10], dtype = float) # [mm] Altura de la parte recta del alma.\n",
    "O =       array(secciones[11])                # [mm] Diámetro máximo del tornillo.\n",
    "pmin =    array(secciones[12], dtype = float) # [mm] Distancia mínima permitida al borde.\n",
    "pmax =    array(secciones[13], dtype = float) # [mm] Distancia máxima permitida al borde.\n",
    "AL =      array(secciones[14], dtype = float) # [m²/m] Superficie a pintar por unidad de longitud.\n",
    "AG =      array(secciones[15], dtype = float) # [m²/t] Superficie a pintar por unidad de masa.\n",
    "Iy =      array(secciones[16], dtype = float) # [cm⁴] Momento de inercia de flexión en y.\n",
    "Wely =    array(secciones[17], dtype = float) # [cm³] Módulo de flexión elástica (momento resistente) en y.\n",
    "Wply =    array(secciones[18], dtype = float) # [cm³] Módulo de flexión plástica (momento resistente) en y.\n",
    "iy =      array(secciones[19], dtype = float) # [mm] Radio de giro en y.\n",
    "AVz =     array(secciones[20], dtype = float) # [cm²] Área de cortadura en z.\n",
    "Iz =      array(secciones[21], dtype = float) # [cm⁴] Momento de inercia de flexión en z.\n",
    "Welz =    array(secciones[22], dtype = float) # [cm³] Módulo de flexión elástica (momento resistente) en z.\n",
    "Wplz =    array(secciones[23], dtype = float) # [cm³] Módulo de flexión plástica (momento resistente) en z.\n",
    "iz =      array(secciones[24], dtype = float) # [mm] Radio de giro en z.\n",
    "ss =      array(secciones[25], dtype = float) # [mm] Longitud del apoyo rígido.\n",
    "It =      array(secciones[26], dtype = float) # [cm⁴] Momento de inercia de torsión.\n",
    "Iw =      array(secciones[27], dtype = float) # [cm⁶] Momento de inercia de alabeo."
   ]
  },
  {
   "cell_type": "code",
   "execution_count": 6,
   "metadata": {
    "collapsed": false
   },
   "outputs": [
    {
     "name": "stdout",
     "output_type": "stream",
     "text": [
      "['C' 'H' 'HD' 'HE' 'HEA' 'HEAA' 'HEB' 'HEC' 'HEM' 'HG' 'HL' 'HLA' 'HLAA'\n",
      " 'HLB' 'HLM' 'HLR' 'HLZA' 'HLZB' 'HLZC' 'HLZD' 'HP' 'IPE' 'IPEA' 'IPEAA'\n",
      " 'IPEO' 'IPEV' 'UB' 'UBP' 'UC' 'UPE' 'UPN' 'W']\n"
     ]
    }
   ],
   "source": [
    "print(unique(perfil))"
   ]
  },
  {
   "cell_type": "markdown",
   "metadata": {},
   "source": [
    "### Límite elástico del acero $f_y$ [MPa] (tabla 3.1)"
   ]
  },
  {
   "cell_type": "code",
   "execution_count": 7,
   "metadata": {
    "collapsed": true
   },
   "outputs": [],
   "source": [
    "fy_S235_EN = [235, 215] # [MPa] t <= 40 mm -> fy = 235 MPa; 40 mm < t <= 80 mm -> fy = 215 MPa\n",
    "fy_S275_EN = [275, 255] # [MPa] t <= 40 mm -> fy = 275 MPa; 40 mm < t <= 80 mm -> fy = 255 MPa\n",
    "fy_S355_EN = [355, 335] # [MPa] t <= 40 mm -> fy = 355 MPa; 40 mm < t <= 80 mm -> fy = 335 MPa"
   ]
  },
  {
   "cell_type": "code",
   "execution_count": 8,
   "metadata": {
    "collapsed": false
   },
   "outputs": [],
   "source": [
    "fy_S235 = []\n",
    "fy_S275 = []\n",
    "fy_S355 = []\n",
    "\n",
    "fy_S235 = [fy_S235_EN[0] if t <= 40 else fy_S235_EN[1] for t,t in zip(tw, tf)]\n",
    "fy_S275 = [fy_S275_EN[0] if t <= 40 else fy_S275_EN[1] for t,t in zip(tw, tf)]\n",
    "fy_S355 = [fy_S355_EN[0] if t <= 40 else fy_S355_EN[1] for t,t in zip(tw, tf)]"
   ]
  },
  {
   "cell_type": "markdown",
   "metadata": {},
   "source": [
    "### Coeficiente parcial para la resitencia"
   ]
  },
  {
   "cell_type": "code",
   "execution_count": 9,
   "metadata": {
    "collapsed": true
   },
   "outputs": [],
   "source": [
    "γM0 = 1.00"
   ]
  },
  {
   "cell_type": "markdown",
   "metadata": {},
   "source": [
    "---"
   ]
  },
  {
   "cell_type": "markdown",
   "metadata": {},
   "source": [
    "## 2. Cálculos"
   ]
  },
  {
   "cell_type": "markdown",
   "metadata": {},
   "source": [
    "### $N_{pl,Rd}$ Resistencia plástica a tracción de la sección bruta $[kN]$\n",
    "\n",
    "$$N_{pl,Rd} = \\frac{A · f_y}{\\gamma_{M0}}$$"
   ]
  },
  {
   "cell_type": "code",
   "execution_count": 10,
   "metadata": {
    "collapsed": false
   },
   "outputs": [],
   "source": [
    "def NRd(As, fy, gM0): return As * fy / gM0 / 10\n",
    "\n",
    "NplRd_S235 = NRd(A, fy_S235, γM0)\n",
    "NplRd_S275 = NRd(A, fy_S275, γM0)\n",
    "NplRd_S355 = NRd(A, fy_S355, γM0)"
   ]
  },
  {
   "cell_type": "markdown",
   "metadata": {},
   "source": [
    "### $M_{el,Rd}$ Resistencia elástica a flexión $[kNm]$\n",
    "\n",
    "$$M_{el,Rd} = \\frac{W_{el} · f_y}{\\gamma_{M0}}$$"
   ]
  },
  {
   "cell_type": "code",
   "execution_count": 11,
   "metadata": {
    "collapsed": false
   },
   "outputs": [],
   "source": [
    "def MRd(W, fy, gM0): return W * fy / gM0 / 1000\n",
    "\n",
    "MelyRd_S235 = MRd(Wely, fy_S235, γM0)\n",
    "MelyRd_S275 = MRd(Wely, fy_S275, γM0)\n",
    "MelyRd_S355 = MRd(Wely, fy_S355, γM0)\n",
    "                    \n",
    "MelzRd_S235 = MRd(Welz, fy_S235, γM0)\n",
    "MelzRd_S275 = MRd(Welz, fy_S275, γM0)\n",
    "MelzRd_S355 = MRd(Welz, fy_S355, γM0)"
   ]
  },
  {
   "cell_type": "markdown",
   "metadata": {},
   "source": [
    "### $M_{pl,Rd}$ Resistencia plástica a flexión $[kNm]$\n",
    "\n",
    "$$M_{pl,Rd} = \\frac{W_{pl} · f_y}{\\gamma_{M0}}$$"
   ]
  },
  {
   "cell_type": "code",
   "execution_count": 12,
   "metadata": {
    "collapsed": true
   },
   "outputs": [],
   "source": [
    "MplyRd_S235 = MRd(Wply, fy_S235, γM0)\n",
    "MplyRd_S275 = MRd(Wply, fy_S275, γM0)\n",
    "MplyRd_S355 = MRd(Wply, fy_S355, γM0)\n",
    "                    \n",
    "MplzRd_S235 = MRd(Wplz, fy_S235, γM0)\n",
    "MplzRd_S275 = MRd(Wplz, fy_S275, γM0)\n",
    "MplzRd_S355 = MRd(Wplz, fy_S355, γM0)"
   ]
  },
  {
   "cell_type": "markdown",
   "metadata": {},
   "source": [
    "### $V_{pl,Rd}$ Resistencia plástica a cortante $[kN]$\n",
    "\n",
    "$$V_{pl,Rd} = \\frac{A_V · f_y}{\\sqrt{3} · \\gamma_{M0}}$$\n",
    "\n",
    "$A_{Vy}$ no está incluido en el fichero de datos de ArcelorMittal. Dicho valor se obtendrá de la siguiente fórmula: \n",
    "$$A_{Vy} = 2 · b · t_f$$"
   ]
  },
  {
   "cell_type": "code",
   "execution_count": 13,
   "metadata": {
    "collapsed": true
   },
   "outputs": [],
   "source": [
    "AVy = 2 * b * tf / 100 # [cm²] Área de cortadura en y."
   ]
  },
  {
   "cell_type": "code",
   "execution_count": 14,
   "metadata": {
    "collapsed": false
   },
   "outputs": [],
   "source": [
    "def VRd(Av, fy, gM0): return Av * fy / (sqrt(3) * gM0) / 10\n",
    "\n",
    "VplyRd_S235 = VRd(AVy, fy_S235, γM0)\n",
    "VplyRd_S275 = VRd(AVy, fy_S275, γM0)\n",
    "VplyRd_S355 = VRd(AVy, fy_S355, γM0)\n",
    "\n",
    "VplzRd_S235 = VRd(AVz, fy_S235, γM0)\n",
    "VplzRd_S275 = VRd(AVz, fy_S275, γM0)\n",
    "VplzRd_S355 = VRd(AVz, fy_S355, γM0)"
   ]
  },
  {
   "cell_type": "markdown",
   "metadata": {},
   "source": [
    "---"
   ]
  },
  {
   "cell_type": "markdown",
   "metadata": {},
   "source": [
    "## 3. Resultados"
   ]
  },
  {
   "cell_type": "markdown",
   "metadata": {},
   "source": [
    "### Agrupa las resitencias de las secciones"
   ]
  },
  {
   "cell_type": "code",
   "execution_count": 15,
   "metadata": {
    "collapsed": false
   },
   "outputs": [],
   "source": [
    "agrupa_Rd = vstack((perfil, nominal,\n",
    "                    NplRd_S235, NplRd_S275, NplRd_S275,\n",
    "                    MelyRd_S235, MelyRd_S275, MelyRd_S355,\n",
    "                    MelzRd_S235, MelzRd_S275, MelzRd_S355,\n",
    "                    MplyRd_S235, MplyRd_S275, MplyRd_S355,\n",
    "                    MplzRd_S235, MplzRd_S275, MplzRd_S355,\n",
    "                    VplyRd_S235, VplyRd_S275, VplyRd_S355,\n",
    "                    VplzRd_S235, VplzRd_S275, VplzRd_S355))\n",
    "\n",
    "x = range(agrupa_Rd[0].size)\n",
    "Rd = [[row[i] for row in agrupa_Rd] for i in x] # Trasposición de filas en columnas."
   ]
  },
  {
   "cell_type": "markdown",
   "metadata": {},
   "source": [
    "### Guarda en csv"
   ]
  },
  {
   "cell_type": "code",
   "execution_count": 16,
   "metadata": {
    "collapsed": false
   },
   "outputs": [],
   "source": [
    "with open('../csv/EN_CapResSecc (16-02).csv', 'w', newline='') as f_csv:\n",
    "    writer = csv.writer(f_csv)\n",
    "    writer.writerow(['@ Capacidad resistente de las secciones según EN 1993-1-1:2005'])\n",
    "    writer.writerow(['@ ------------------------------------------------------------'])\n",
    "    writer.writerow(['@'])\n",
    "    writer.writerow(['@ 2016-02-05 Pedro Biel'])\n",
    "    writer.writerow(['@'])\n",
    "    writer.writerow(['@ Unidades en [kN]; [kNm]'])\n",
    "    writer.writerow(['@'])\n",
    "    writer.writerow(['@ Perfil; Nominal; N.plRd_S235; N.plRd_S275; N.plRd_S275; M.elyRd_S235; M.elyRd_S275; M.elyRd_S355; M.elzRd_S235; M.elzRd_S275; M.elzRd_S355; M.plyRd_S235; M.plyRd_S275; M.plyRd_S355; M.plzRd_S235; M.plzRd_S275; M.plzRd_S355; V.plyRd_S235; V.plyRd_S275; V.plyRd_S355; V.plzRd_S235; V.plzRd_S275; V.plzRd_S355'])\n",
    "    writer.writerow(['@'])\n",
    "    writer.writerows(Rd)\n",
    "    writer.writerow(['@'])\n",
    "    writer.writerow(['@ Fin del documento'])"
   ]
  },
  {
   "cell_type": "markdown",
   "metadata": {},
   "source": [
    "### Guarda en xlsx"
   ]
  },
  {
   "cell_type": "code",
   "execution_count": 17,
   "metadata": {
    "collapsed": false
   },
   "outputs": [],
   "source": [
    "# Crea libro nuevo y hoja nueva.\n",
    "workbook = xlsxwriter.Workbook('../xlsx/EN_CapResSecc (16-02).xlsx', {'strings_to_numbers': True,})\n",
    "workbook.set_properties({'title':   'Capacidad resistente de las secciones',\n",
    "                         'subject': 'según EN 1993-1-1:2005',\n",
    "                         'author':  'Pedro Biel'})\n",
    "worksheetS235 = workbook.add_worksheet('S235')\n",
    "worksheetS275 = workbook.add_worksheet('S275')\n",
    "worksheetS355 = workbook.add_worksheet('S355')\n",
    "\n",
    "# Textos.\n",
    "txt01 = 'Capacidad resistente de las secciones según EN 1993-1-1:2005'\n",
    "txt02 = '2016-02-05 Pedro Biel'\n",
    "txt03 = 'Unidades en [kN], [kNm]'\n",
    "txt04 = 'Perfil'\n",
    "txt05 = 'Nominal'\n",
    "txt06 = ('N.plRd', 'M.elyRd', 'M.elzRd', 'M.plyRd', 'M.plzRd', 'V.plyRd', 'V.plzRd')\n",
    "txt07 = 'Material: S235'\n",
    "txt08 = 'Material: S275'\n",
    "txt09 = 'Material: S355'\n",
    "\n",
    "# Pie de página.\n",
    "footerL = '&L&6&\"Monospac821 BT\" &F / EN_CapResSecc (16-02).ipynb / Pedro Biel'\n",
    "footerR = '&R&6&\"Monospac821 BT\" &P/&N'\n",
    "\n",
    "# Formato.\n",
    "format01 = workbook.add_format()    # Estilo de texto en título de la hoja.\n",
    "format01.set_bold()\n",
    "format01.set_font_size(14)\n",
    "\n",
    "format02 = workbook.add_format()    # Cabecero 'Perfil'.\n",
    "format02.set_bottom(1)\n",
    "\n",
    "format03 = workbook.add_format()    # Cabecero 'Nominal'.\n",
    "format03.set_align('center')\n",
    "format03.set_bottom(1)\n",
    "\n",
    "format04 = workbook.add_format()    # Otros cabeceros.\n",
    "format04.set_align('right')\n",
    "format04.set_bottom(1)\n",
    "\n",
    "format05 = workbook.add_format()    # Estilo y color de borde inferior.\n",
    "format05.set_bottom(7)\n",
    "format05.set_bottom_color('#A0A0A0')\n",
    "\n",
    "format06 = workbook.add_format()    # Alinea a la derecha.\n",
    "format06.set_align('right')\n",
    "format06.set_bottom(7)\n",
    "format06.set_bottom_color('#A0A0A0')\n",
    "\n",
    "format07 = workbook.add_format()    # Formato de número en las listas.\n",
    "format07.set_num_format('#,##0.00')\n",
    "format07.set_bottom(7)\n",
    "format07.set_bottom_color('#A0A0A0')\n",
    "\n",
    "for worksheet in workbook.worksheets():                      # Retorna una lista de todas las worksheets del workbook.\n",
    "    worksheet.set_column('A1:W1', 14)                        # Ancho de columna.\n",
    "    worksheet.hide_gridlines(2)                              # Oculta líneas de cuadrícula.\n",
    "    worksheet.autofilter('A8:B8')                            # Filtro.\n",
    "    worksheet.freeze_panes('A9')                             # Crea e inmoviliza paneles.\n",
    "    worksheet.set_footer(footerL + footerR)                  # Pie de página.\n",
    "    worksheet.protect('EN_CapResSecc', {'autofilter': True}) # Protege el libro.\n",
    "\n",
    "    # Cabecero.\n",
    "    worksheet.write('A1', txt01, format01)\n",
    "    worksheet.write('A2', txt02)\n",
    "    worksheet.write('A6', txt03)\n",
    "    worksheet.write('A8', txt04, format02)\n",
    "    worksheet.write('B8', txt05, format03)\n",
    "    worksheet.write_row('C8', txt06, format04)\n",
    "    \n",
    "    # Rellena celdas.\n",
    "    worksheet.write_column('A9', perfil, format05)\n",
    "    worksheet.write_column('B9', nominal, format06)\n",
    "    \n",
    "# Rellena celdas en worksheetS235.\n",
    "worksheetS235.write('A4', txt07)\n",
    "worksheetS235.write_column('C9', NplRd_S235,  format07)\n",
    "worksheetS235.write_column('D9', MelyRd_S235, format07)\n",
    "worksheetS235.write_column('E9', MelzRd_S235, format07)\n",
    "worksheetS235.write_column('F9', MplyRd_S235, format07)\n",
    "worksheetS235.write_column('G9', MplzRd_S235, format07)\n",
    "worksheetS235.write_column('H9', VplyRd_S235, format07)\n",
    "worksheetS235.write_column('I9', VplzRd_S235, format07) \n",
    "\n",
    "# Rellena celdas en worksheetS275.\n",
    "worksheetS275.write('A4', txt08)\n",
    "worksheetS275.write_column('C9', NplRd_S275,  format07)\n",
    "worksheetS275.write_column('D9', MelyRd_S275, format07)\n",
    "worksheetS275.write_column('E9', MelzRd_S275, format07)\n",
    "worksheetS275.write_column('F9', MplyRd_S275, format07)\n",
    "worksheetS275.write_column('G9', MplzRd_S275, format07)\n",
    "worksheetS275.write_column('H9', VplyRd_S275, format07)\n",
    "worksheetS275.write_column('I9', VplzRd_S275, format07)      \n",
    "    \n",
    "# Rellena celdas en worksheetS355.\n",
    "worksheetS355.write('A4', txt09)\n",
    "worksheetS355.write_column('C9', NplRd_S355,  format07)\n",
    "worksheetS355.write_column('D9', MelyRd_S355, format07)\n",
    "worksheetS355.write_column('E9', MelzRd_S355, format07)\n",
    "worksheetS355.write_column('F9', MplyRd_S355, format07)\n",
    "worksheetS355.write_column('G9', MplzRd_S355, format07)\n",
    "worksheetS355.write_column('H9', VplyRd_S355, format07)\n",
    "worksheetS355.write_column('I9', VplzRd_S355, format07)   \n",
    "\n",
    "workbook.close()"
   ]
  },
  {
   "cell_type": "markdown",
   "metadata": {
    "collapsed": true
   },
   "source": [
    "## 4. Versión"
   ]
  },
  {
   "cell_type": "code",
   "execution_count": 18,
   "metadata": {
    "collapsed": false
   },
   "outputs": [
    {
     "data": {
      "application/json": {
       "Software versions": [
        {
         "module": "Python",
         "version": "3.4.4 64bit [MSC v.1600 64 bit (AMD64)]"
        },
        {
         "module": "IPython",
         "version": "4.1.1"
        },
        {
         "module": "OS",
         "version": "Windows 8 6.2.9200 SP0"
        },
        {
         "module": "csv",
         "version": "1.0"
        },
        {
         "module": "matplotlib",
         "version": "1.4.3"
        },
        {
         "module": "numpy",
         "version": "1.9.2"
        },
        {
         "module": "scipy",
         "version": "0.15.1"
        },
        {
         "module": "xlsxwriter",
         "version": "0.7.3"
        }
       ]
      },
      "text/html": [
       "<table><tr><th>Software</th><th>Version</th></tr><tr><td>Python</td><td>3.4.4 64bit [MSC v.1600 64 bit (AMD64)]</td></tr><tr><td>IPython</td><td>4.1.1</td></tr><tr><td>OS</td><td>Windows 8 6.2.9200 SP0</td></tr><tr><td>csv</td><td>1.0</td></tr><tr><td>matplotlib</td><td>1.4.3</td></tr><tr><td>numpy</td><td>1.9.2</td></tr><tr><td>scipy</td><td>0.15.1</td></tr><tr><td>xlsxwriter</td><td>0.7.3</td></tr><tr><td colspan='2'>Wed Feb 10 10:31:37 2016 Hora estándar romance</td></tr></table>"
      ],
      "text/latex": [
       "\\begin{tabular}{|l|l|}\\hline\n",
       "{\\bf Software} & {\\bf Version} \\\\ \\hline\\hline\n",
       "Python & 3.4.4 64bit [MSC v.1600 64 bit (AMD64)] \\\\ \\hline\n",
       "IPython & 4.1.1 \\\\ \\hline\n",
       "OS & Windows 8 6.2.9200 SP0 \\\\ \\hline\n",
       "csv & 1.0 \\\\ \\hline\n",
       "matplotlib & 1.4.3 \\\\ \\hline\n",
       "numpy & 1.9.2 \\\\ \\hline\n",
       "scipy & 0.15.1 \\\\ \\hline\n",
       "xlsxwriter & 0.7.3 \\\\ \\hline\n",
       "\\hline \\multicolumn{2}{|l|}{Wed Feb 10 10:31:37 2016 Hora estándar romance} \\\\ \\hline\n",
       "\\end{tabular}\n"
      ],
      "text/plain": [
       "Software versions\n",
       "Python 3.4.4 64bit [MSC v.1600 64 bit (AMD64)]\n",
       "IPython 4.1.1\n",
       "OS Windows 8 6.2.9200 SP0\n",
       "csv 1.0\n",
       "matplotlib 1.4.3\n",
       "numpy 1.9.2\n",
       "scipy 0.15.1\n",
       "xlsxwriter 0.7.3\n",
       "Wed Feb 10 10:31:37 2016 Hora estándar romance"
      ]
     },
     "execution_count": 18,
     "metadata": {},
     "output_type": "execute_result"
    }
   ],
   "source": [
    "%load_ext version_information\n",
    "%reload_ext version_information\n",
    "\n",
    "%version_information csv, matplotlib, numpy, scipy, xlsxwriter"
   ]
  }
 ],
 "metadata": {
  "kernelspec": {
   "display_name": "Python 3",
   "language": "python",
   "name": "python3"
  },
  "language_info": {
   "codemirror_mode": {
    "name": "ipython",
    "version": 3
   },
   "file_extension": ".py",
   "mimetype": "text/x-python",
   "name": "python",
   "nbconvert_exporter": "python",
   "pygments_lexer": "ipython3",
   "version": "3.5.1"
  }
 },
 "nbformat": 4,
 "nbformat_minor": 0
}
